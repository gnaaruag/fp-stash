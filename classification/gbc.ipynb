{
 "cells": [
  {
   "cell_type": "code",
   "execution_count": 61,
   "id": "88e33dad",
   "metadata": {
    "tags": []
   },
   "outputs": [],
   "source": [
    "import numpy as np # linear algebra\n",
    "import pandas as pd # data processing, CSV file I/O (e.g. pd.read_csv)\n",
    "import matplotlib.pyplot as plt\n",
    "import seaborn as sns"
   ]
  },
  {
   "cell_type": "code",
   "execution_count": 77,
   "id": "f2dcdd36",
   "metadata": {
    "tags": []
   },
   "outputs": [],
   "source": [
    "x_train = pd.read_csv(r\"./x_train.csv\")\n",
    "x_test = pd.read_csv(r\"./x_test.csv\")\n",
    "y_train = pd.read_csv(r\"./y_train.csv\")\n",
    "y_test = pd.read_csv(r\"./y_test.csv\")"
   ]
  },
  {
   "cell_type": "code",
   "execution_count": 81,
   "id": "cb0cf984",
   "metadata": {
    "tags": []
   },
   "outputs": [
    {
     "name": "stdout",
     "output_type": "stream",
     "text": [
      "Classification report: \n",
      "               precision    recall  f1-score   support\n",
      "\n",
      "       False       0.94      0.91      0.92        80\n",
      "        True       0.82      0.87      0.85        38\n",
      "\n",
      "    accuracy                           0.90       118\n",
      "   macro avg       0.88      0.89      0.89       118\n",
      "weighted avg       0.90      0.90      0.90       118\n",
      "\n"
     ]
    },
    {
     "name": "stderr",
     "output_type": "stream",
     "text": [
      "C:\\ProgramData\\anaconda3\\Lib\\site-packages\\sklearn\\ensemble\\_gb.py:437: DataConversionWarning: A column-vector y was passed when a 1d array was expected. Please change the shape of y to (n_samples, ), for example using ravel().\n",
      "  y = column_or_1d(y, warn=True)\n"
     ]
    }
   ],
   "source": [
    "from sklearn.model_selection import train_test_split, GridSearchCV\n",
    "from sklearn.preprocessing import StandardScaler\n",
    "from sklearn.ensemble import RandomForestClassifier\n",
    "from sklearn.pipeline import Pipeline\n",
    "from sklearn.metrics import accuracy_score\n",
    "from sklearn.tree import plot_tree\n",
    "from sklearn.impute import SimpleImputer\n",
    "from sklearn.metrics import classification_report\n",
    "\n",
    "\n",
    "from sklearn.ensemble import  GradientBoostingClassifier\n",
    "# Gradient Boosting Classifier\n",
    "gbc_clf = GradientBoostingClassifier()\n",
    "import pandas as pd\n",
    "\n",
    "gbc_clf.fit(x_train, y_train)\n",
    "y_pred=gbc_clf.predict(x_test)\n",
    "gbc_clf.score(x_test, y_test) * 100\n",
    "print(\"Classification report: \\n\", classification_report(y_test, y_pred))"
   ]
  },
  {
   "cell_type": "code",
   "execution_count": 83,
   "id": "31335433",
   "metadata": {
    "tags": []
   },
   "outputs": [
    {
     "name": "stdout",
     "output_type": "stream",
     "text": [
      "[ True False  True False False False False False  True False  True False\n",
      "  True False  True False False False  True False False False False False\n",
      " False False False  True False False False False False False False False\n",
      "  True False  True  True  True False False False  True  True False  True\n",
      " False  True False  True False  True False  True False False False False\n",
      " False  True False False False False False False  True False  True False\n",
      "  True False False  True False False False  True False False  True False\n",
      " False  True False  True False  True False  True  True False  True False\n",
      " False False  True False False False  True False  True  True False False\n",
      " False  True False  True False  True False False  True False]\n"
     ]
    }
   ],
   "source": [
    "print(y_pred)"
   ]
  },
  {
   "cell_type": "code",
   "execution_count": 85,
   "id": "f84157e4",
   "metadata": {
    "tags": []
   },
   "outputs": [
    {
     "name": "stdout",
     "output_type": "stream",
     "text": [
      "Current value of 'a' in notebook1: [[1, 0, 1, 0, 0, 0, 0, 0, 1, 0, 1, 0, 1, 0, 1, 0, 0, 1, 1, 0, 0, 0, 0, 0, 0, 0, 0, 1, 0, 0, 0, 0, 1, 0, 0, 0, 1, 0, 1, 1, 0, 0, 0, 0, 1, 1, 0, 0, 0, 1, 0, 1, 0, 1, 0, 1, 0, 0, 0, 0, 0, 1, 0, 0, 0, 0, 0, 0, 1, 0, 1, 0, 1, 0, 0, 1, 0, 0, 0, 1, 0, 0, 1, 0, 0, 1, 0, 0, 0, 1, 0, 1, 0, 0, 0, 0, 0, 0, 1, 0, 0, 0, 0, 0, 1, 1, 0, 0, 0, 1, 0, 1, 0, 0, 0, 0, 1, 0], [True, False, True, False, True, False, False, False, True, False, True, False, True, False, True, False, False, True, True, False, False, False, False, False, False, False, False, True, False, False, False, False, True, False, False, False, True, False, True, True, False, False, False, False, True, True, False, True, False, True, False, True, False, True, False, True, False, False, False, False, False, True, True, False, False, False, False, True, True, False, True, False, True, False, False, True, False, False, False, True, False, False, True, False, True, True, False, True, False, True, False, True, False, False, True, False, False, False, True, False, False, False, False, False, True, True, False, False, False, True, False, True, False, True, False, False, True, False], [True, False, True, False, True, False, False, False, True, False, True, False, True, False, False, False, False, True, True, False, False, False, False, False, False, False, False, True, False, False, False, False, True, False, False, False, True, False, True, True, False, False, False, False, True, True, False, True, False, True, False, True, False, True, True, False, False, False, False, False, False, True, True, False, False, False, False, False, True, False, True, False, True, False, False, True, False, False, False, True, False, False, True, False, True, True, False, True, False, True, False, False, True, False, True, False, False, False, True, False, False, False, True, False, True, True, False, False, False, False, False, True, False, True, False, False, True, False], [True, False, True, False, True, False, False, False, True, False, True, False, True, False, True, False, False, True, True, False, False, False, False, False, False, False, False, True, False, False, False, False, True, False, False, False, True, False, True, True, False, False, False, False, True, True, False, True, False, True, False, True, False, True, False, True, False, False, False, True, False, True, True, False, False, False, False, True, True, False, True, False, True, False, False, True, False, False, False, True, False, False, True, False, True, True, False, True, False, True, False, True, False, False, True, False, False, False, True, False, False, False, True, False, True, True, False, False, False, True, False, True, False, True, False, False, True, False], [True, False, True, False, False, False, False, False, True, False, True, False, True, False, True, False, False, False, True, False, False, False, False, False, False, False, False, True, False, False, False, False, False, False, False, False, True, False, True, True, True, False, False, False, True, True, False, True, False, True, False, True, False, True, False, True, False, False, False, False, False, True, False, False, False, False, False, False, True, False, True, False, True, False, False, True, False, False, False, True, False, False, True, False, False, True, False, True, False, True, False, True, True, False, True, False, False, False, True, False, False, False, True, False, True, True, False, False, False, True, False, True, False, True, False, False, True, False]]\n"
     ]
    }
   ],
   "source": [
    "common_path = 'data.py'\n",
    "\n",
    "# Load the common module dynamically\n",
    "exec(open(common_path).read())\n",
    "\n",
    "# Function to update the first element\n",
    "def update_first_element(new_value):\n",
    "    global a\n",
    "    a[4] = new_value\n",
    "\n",
    "# Function to display the current value of 'a'\n",
    "def display_shared_variable():\n",
    "    print(\"Current value of 'a' in notebook1:\", a)\n",
    "\n",
    "# Update and display\n",
    "update_first_element(list(y_pred))\n",
    "display_shared_variable()\n",
    "\n",
    "# Save the updated value back to common.py\n",
    "with open(common_path, 'w') as f:\n",
    "    f.write(f'a = {a}')"
   ]
  },
  {
   "cell_type": "code",
   "execution_count": null,
   "id": "a8733c1d-61eb-4e33-9f43-de11c5f2d3c7",
   "metadata": {},
   "outputs": [],
   "source": []
  },
  {
   "cell_type": "code",
   "execution_count": null,
   "id": "e0a809ac-b754-4f3e-9cd2-db13cd5cb3d8",
   "metadata": {},
   "outputs": [],
   "source": []
  },
  {
   "cell_type": "code",
   "execution_count": null,
   "id": "d3a49307-5665-43e8-a9ec-9582ba70808a",
   "metadata": {},
   "outputs": [],
   "source": []
  }
 ],
 "metadata": {
  "kernelspec": {
   "display_name": "Python 3 (ipykernel)",
   "language": "python",
   "name": "python3"
  },
  "language_info": {
   "codemirror_mode": {
    "name": "ipython",
    "version": 3
   },
   "file_extension": ".py",
   "mimetype": "text/x-python",
   "name": "python",
   "nbconvert_exporter": "python",
   "pygments_lexer": "ipython3",
   "version": "3.11.7"
  }
 },
 "nbformat": 4,
 "nbformat_minor": 5
}
